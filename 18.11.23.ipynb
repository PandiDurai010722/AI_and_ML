{
 "cells": [
  {
   "cell_type": "code",
   "execution_count": null,
   "id": "d981d9fa-cae4-461a-bc0f-96dfc141abb1",
   "metadata": {},
   "outputs": [],
   "source": [
    "# Pickling\n",
    "# JSON\n",
    "# Web Scraping\n"
   ]
  },
  {
   "cell_type": "code",
   "execution_count": null,
   "id": "9b6b8940-8ab8-435b-a005-fd3a5c9062ae",
   "metadata": {},
   "outputs": [],
   "source": [
    "# pickling => We save the data files pickling. => \n",
    "# converting  data to serializing=> bytes => 0,1.\n",
    "# Deserilization => have the data in python format.\n",
    "# data => Byte Stream => Serialization\n",
    "# object => Python data => Deserialisation."
   ]
  },
  {
   "cell_type": "code",
   "execution_count": 20,
   "id": "c05b12bd-aa40-4967-b3a0-76151873a862",
   "metadata": {},
   "outputs": [
    {
     "name": "stdout",
     "output_type": "stream",
     "text": [
      "{'name': 'Pandi', 'email': 'pandidurai9009@gmail.com', 'role': 'student'}\n"
     ]
    }
   ],
   "source": [
    "import pickle\n",
    "student={\n",
    "    'name':'Pandi',\n",
    "    'email':'pandidurai9009@gmail.com',\n",
    "    'role':'student'\n",
    "}\n",
    "# Serialization\n",
    "byte_stream=pickle.dumps(student)\n",
    "with open(\"student_detail1.pkl\",'ab') as my_file:\n",
    "    pickle.dump(byte_stream,my_file)\n",
    "with open(\"student_detail1.pkl\",'rb') as my_file:\n",
    "    data=pickle.load(my_file)\n",
    "    print(pickle.loads(data))\n",
    "    "
   ]
  },
  {
   "cell_type": "code",
   "execution_count": 6,
   "id": "c3f32ffd-8cc6-4cba-9e44-05cefd99aa01",
   "metadata": {},
   "outputs": [
    {
     "data": {
      "text/plain": [
       "{'name': 'Pandi', 'email': 'pandidurai9009@gmail.com', 'role': 'student'}"
      ]
     },
     "execution_count": 6,
     "metadata": {},
     "output_type": "execute_result"
    }
   ],
   "source": [
    "# Deserialization:\n",
    "dict_data=pickle.loads(byte_stream)\n",
    "dict_data"
   ]
  },
  {
   "cell_type": "code",
   "execution_count": 1,
   "id": "52515944-4cf3-43e6-9463-41209619506b",
   "metadata": {},
   "outputs": [
    {
     "name": "stdout",
     "output_type": "stream",
     "text": [
      "{'name': 'Thivilan', 'email': 'thivilan@gmail.com', 'role': 'mentor'}\n"
     ]
    }
   ],
   "source": [
    "import pickle\n",
    "mentor={\n",
    "'name': \"Thivilan\",\n",
    "'email': \"thivilan@gmail.com\",\n",
    "'role': \"mentor\"\n",
    "}\n",
    "with open(\"mentor_detail.pkl\",\"ab\") as our_file:\n",
    "    pickle.dump(mentor,our_file)\n",
    "    \n",
    "\n",
    "with open(\"mentor_detail.pkl\",\"rb\") as our_file:\n",
    "    data=our_file.read()\n",
    "    print(pickle.loads(data))\n"
   ]
  },
  {
   "cell_type": "code",
   "execution_count": null,
   "id": "7dc79834-0bae-4364-a314-60117dd91fdf",
   "metadata": {},
   "outputs": [],
   "source": [
    "# Create a list of students having some details\n",
    "# Save the data in pkl format and read the data"
   ]
  },
  {
   "cell_type": "code",
   "execution_count": 4,
   "id": "d37d0efb-41f9-4867-ac63-c2b995e7f65f",
   "metadata": {},
   "outputs": [
    {
     "name": "stdout",
     "output_type": "stream",
     "text": [
      "['SivaThivila', 20, 'sivathivilan@gmail.com']\n"
     ]
    }
   ],
   "source": [
    "import pickle\n",
    "student1=[\"SivaThivila\",20,\"sivathivilan@gmail.com\"]\n",
    "byte_stream=pickle.dumps(student1)\n",
    "with open(\"student.pkl\",\"ab\") as pandi:\n",
    "    pickle.dump(byte_stream,pandi)\n",
    "with open(\"student.pkl\",\"rb\") as pandi:\n",
    "    data=pickle.load(pandi)\n",
    "    print(pickle.loads(data))"
   ]
  },
  {
   "cell_type": "code",
   "execution_count": 6,
   "id": "b8d87e92-2f89-4064-ab2d-63ecea84743f",
   "metadata": {},
   "outputs": [
    {
     "name": "stdout",
     "output_type": "stream",
     "text": [
      "[{'name': 'pandidurai', 'email': 'pandidurai9009@gmail.com', 'age': 29, 'course': 'AI and ML'}, {'name': 'Aruna', 'email': 'aruna909@gmail.com', 'age': 25, 'course': 'Data Anlayst'}, {'name': 'Thivilan', 'email': 'thivilan90@gmail.com', 'age': 10, 'course': 'Doctor'}]\n"
     ]
    }
   ],
   "source": [
    "import pickle\n",
    "students=[\n",
    "    {\"name\":\"pandidurai\",\n",
    "     \"email\":\"pandidurai9009@gmail.com\",\n",
    "     \"age\": 29,\n",
    "     \"course\": \"AI and ML\"\n",
    "    },\n",
    "    {\n",
    "        \"name\":\"Aruna\",\n",
    "        \"email\":\"aruna909@gmail.com\",\n",
    "        \"age\":25,\n",
    "        \"course\":\"Data Anlayst\"\n",
    "    },\n",
    "    {\n",
    "        \"name\":\"Thivilan\",\n",
    "        \"email\":\"thivilan90@gmail.com\",\n",
    "        \"age\":10,\n",
    "        \"course\":\"Doctor\"\n",
    "    }\n",
    "]\n",
    "with open(\"students_report.pkl\",\"ab\") as my_file:\n",
    "    pickle.dump(students,my_file)\n",
    "with open(\"students_report.pkl\",\"rb\") as my_file:\n",
    "    data=pickle.load(my_file)\n",
    "    print(data)"
   ]
  },
  {
   "cell_type": "code",
   "execution_count": null,
   "id": "3fd8a782-7418-4fd5-b75b-b78b343f0594",
   "metadata": {},
   "outputs": [],
   "source": [
    "# Write => wb\n",
    "# append => ab\n",
    "# read   => rb"
   ]
  },
  {
   "cell_type": "code",
   "execution_count": 4,
   "id": "4893e124-7586-4e38-8f09-bdb7ad03dc85",
   "metadata": {},
   "outputs": [
    {
     "name": "stdout",
     "output_type": "stream",
     "text": [
      "<class 'dict'>\n"
     ]
    },
    {
     "data": {
      "text/plain": [
       "'{\"name\": \"Pandi\", \"email\": \"pandidurai9009@gmail.com\", \"role\": \"student\"}'"
      ]
     },
     "execution_count": 4,
     "metadata": {},
     "output_type": "execute_result"
    }
   ],
   "source": [
    "# JSON: Java script object notation\n",
    "import json\n",
    "student={\n",
    "    'name':'Pandi',\n",
    "    'email':'pandidurai9009@gmail.com',\n",
    "    'role':'student'\n",
    "}\n",
    "print(type(student))\n",
    "json_data=json.dumps(student)\n",
    "type(json_data)\n",
    "json_data"
   ]
  },
  {
   "cell_type": "code",
   "execution_count": 3,
   "id": "d2eaa7fb-4a00-4a6a-97d7-f99d6aea3a95",
   "metadata": {},
   "outputs": [
    {
     "data": {
      "text/plain": [
       "'{\\n    \"name\": \"Pandi\",\\n    \"email\": \"pandidurai9009@gmail.com\",\\n    \"role\": \"student\"\\n}'"
      ]
     },
     "execution_count": 3,
     "metadata": {},
     "output_type": "execute_result"
    }
   ],
   "source": [
    "json_data=json.dumps(student,indent=4)\n",
    "json_data"
   ]
  },
  {
   "cell_type": "code",
   "execution_count": 5,
   "id": "3706e5c0-3c4c-4111-a1fe-d599d3d12cf7",
   "metadata": {},
   "outputs": [],
   "source": [
    "with open('stu.json','w') as my_file:\n",
    "    json.dump(json_data,my_file)"
   ]
  },
  {
   "cell_type": "code",
   "execution_count": 10,
   "id": "f652d73e-9606-4370-b906-e74a45e457f7",
   "metadata": {},
   "outputs": [
    {
     "data": {
      "text/plain": [
       "'Pandi'"
      ]
     },
     "execution_count": 10,
     "metadata": {},
     "output_type": "execute_result"
    }
   ],
   "source": [
    "with open('stu.json','r') as my_file:\n",
    "    data=json.load(my_file)\n",
    "    result=json.loads(data)\n",
    "result['name']"
   ]
  },
  {
   "cell_type": "code",
   "execution_count": 12,
   "id": "84051a0b-6af5-4449-8b73-f6dff8435d16",
   "metadata": {},
   "outputs": [],
   "source": [
    "marks =[10,20,30,40,50,60]\n",
    "json_data=json.dumps(marks)\n",
    "with open('mark.json','w') as my_file:\n",
    "    json.dump(json_data,my_file)\n"
   ]
  },
  {
   "cell_type": "code",
   "execution_count": 1,
   "id": "32b63a40-abd1-4007-9c23-6a2de1fea69e",
   "metadata": {},
   "outputs": [
    {
     "name": "stdout",
     "output_type": "stream",
     "text": [
      "Requirement already satisfied: requests in c:\\users\\user\\appdata\\local\\programs\\python\\python312\\lib\\site-packages (2.31.0)\n",
      "Requirement already satisfied: charset-normalizer<4,>=2 in c:\\users\\user\\appdata\\local\\programs\\python\\python312\\lib\\site-packages (from requests) (3.3.1)\n",
      "Requirement already satisfied: idna<4,>=2.5 in c:\\users\\user\\appdata\\local\\programs\\python\\python312\\lib\\site-packages (from requests) (3.4)\n",
      "Requirement already satisfied: urllib3<3,>=1.21.1 in c:\\users\\user\\appdata\\local\\programs\\python\\python312\\lib\\site-packages (from requests) (2.0.7)\n",
      "Requirement already satisfied: certifi>=2017.4.17 in c:\\users\\user\\appdata\\local\\programs\\python\\python312\\lib\\site-packages (from requests) (2023.7.22)\n",
      "Requirement already satisfied: html5lib in c:\\users\\user\\appdata\\local\\programs\\python\\python312\\lib\\site-packages (1.1)\n",
      "Requirement already satisfied: six>=1.9 in c:\\users\\user\\appdata\\local\\programs\\python\\python312\\lib\\site-packages (from html5lib) (1.16.0)\n",
      "Requirement already satisfied: webencodings in c:\\users\\user\\appdata\\local\\programs\\python\\python312\\lib\\site-packages (from html5lib) (0.5.1)\n",
      "Requirement already satisfied: bs4 in c:\\users\\user\\appdata\\local\\programs\\python\\python312\\lib\\site-packages (0.0.1)\n",
      "Requirement already satisfied: beautifulsoup4 in c:\\users\\user\\appdata\\local\\programs\\python\\python312\\lib\\site-packages (from bs4) (4.12.2)\n",
      "Requirement already satisfied: soupsieve>1.2 in c:\\users\\user\\appdata\\local\\programs\\python\\python312\\lib\\site-packages (from beautifulsoup4->bs4) (2.5)\n"
     ]
    }
   ],
   "source": [
    "!pip install requests\n",
    "!pip install html5lib\n",
    "!pip install bs4 # beautiful soup"
   ]
  },
  {
   "cell_type": "code",
   "execution_count": 2,
   "id": "de75bb19-c90d-42f3-87c2-2715691eb58f",
   "metadata": {},
   "outputs": [],
   "source": [
    "import requests \n",
    "from bs4 import BeautifulSoup"
   ]
  },
  {
   "cell_type": "code",
   "execution_count": 3,
   "id": "471313bb-ebd3-450a-a23f-9d7532fa146e",
   "metadata": {},
   "outputs": [
    {
     "data": {
      "text/plain": [
       "b'<!DOCTYPE html>\\n<!--[if lt IE 7]> <html lang=\"en-us\" class=\"a-no-js a-lt-ie9 a-lt-ie8 a-lt-ie7\"> <![endif]-->\\n<!--[if IE 7]>    <html lang=\"en-us\" class=\"a-no-js a-lt-ie9 a-lt-ie8\"> <![endif]-->\\n<!--[if IE 8]>    <html lang=\"en-us\" class=\"a-no-js a-lt-ie9\"> <![endif]-->\\n<!--[if gt IE 8]><!-->\\n<html class=\"a-no-js\" lang=\"en-us\"><!--<![endif]--><head>\\n<meta http-equiv=\"content-type\" content=\"text/html; charset=UTF-8\">\\n<meta charset=\"utf-8\">\\n<meta http-equiv=\"X-UA-Compatible\" content=\"IE=edge,chrome=1\">\\n<title dir=\"ltr\">Amazon.in</title>\\n<meta name=\"viewport\" content=\"width=device-width\">\\n<link rel=\"stylesheet\" href=\"https://images-na.ssl-images-amazon.com/images/G/01/AUIClients/AmazonUI-3c913031596ca78a3768f4e934b1cc02ce238101.secure.min._V1_.css\">\\n<script>\\n\\nif (true === true) {\\n    var ue_t0 = (+ new Date()),\\n        ue_csm = window,\\n        ue = { t0: ue_t0, d: function() { return (+new Date() - ue_t0); } },\\n        ue_furl = \"fls-eu.amazon.in\",\\n        ue_mid = \"A21TJRUUN4KGV\",\\n        ue_sid = (document.cookie.match(/session-id=([0-9-]+)/) || [])[1],\\n        ue_sn = \"opfcaptcha.amazon.in\",\\n        ue_id = \\'VJG85PN721Q9X0RM9084\\';\\n}\\n</script>\\n</head>\\n<body>\\n\\n<!--\\n        To discuss automated access to Amazon data please contact api-services-support@amazon.com.\\n        For information about migrating to our APIs refer to our Marketplace APIs at https://developer.amazonservices.in/ref=rm_c_sv, or our Product Advertising API at https://affiliate-program.amazon.in/gp/advertising/api/detail/main.html/ref=rm_c_ac for advertising use cases.\\n-->\\n\\n<!--\\nCorreios.DoNotSend\\n-->\\n\\n<div class=\"a-container a-padding-double-large\" style=\"min-width:350px;padding:44px 0 !important\">\\n\\n    <div class=\"a-row a-spacing-double-large\" style=\"width: 350px; margin: 0 auto\">\\n\\n        <div class=\"a-row a-spacing-medium a-text-center\"><i class=\"a-icon a-logo\"></i></div>\\n\\n        <div class=\"a-box a-alert a-alert-info a-spacing-base\">\\n            <div class=\"a-box-inner\">\\n                <i class=\"a-icon a-icon-alert\"></i>\\n                <h4>Enter the characters you see below</h4>\\n                <p class=\"a-last\">Sorry, we just need to make sure you\\'re not a robot. For best results, please make sure your browser is accepting cookies.</p>\\n                </div>\\n            </div>\\n\\n            <div class=\"a-section\">\\n\\n                <div class=\"a-box a-color-offset-background\">\\n                    <div class=\"a-box-inner a-padding-extra-large\">\\n\\n                        <form method=\"get\" action=\"/errors/validateCaptcha\" name=\"\">\\n                            <input type=hidden name=\"amzn\" value=\"7A+K3cE02ZvLnR49OXKsWA==\" /><input type=hidden name=\"amzn-r\" value=\"&#047;?html5lib\" />\\n                            <div class=\"a-row a-spacing-large\">\\n                                <div class=\"a-box\">\\n                                    <div class=\"a-box-inner\">\\n                                        <h4>Type the characters you see in this image:</h4>\\n                                        <!-- For automated access to price change or offer listing change events,\\n                                             please refer to the MWS Subscription API:\\n                                             https://developer.amazonservices.in/gp/mws/api.html/276-5247872-0590350?ie=UTF8&section=subscriptions&group=subscriptions&version=latest\\n                                        -->\\n                                        <div class=\"a-row a-text-center\">\\n                                            <img src=\"https://images-na.ssl-images-amazon.com/captcha/qujzzelu/Captcha_vnwgkvwzlm.jpg\">\\n                                        </div>\\n                                        <div class=\"a-row a-spacing-base\">\\n                                            <div class=\"a-row\">\\n                                                <div class=\"a-column a-span6\">\\n                                                </div>\\n                                                <div class=\"a-column a-span6 a-span-last a-text-right\">\\n                                                    <a onclick=\"window.location.reload()\">Try different image</a>\\n                                                </div>\\n                                            </div>\\n                                            <input autocomplete=\"off\" spellcheck=\"false\" placeholder=\"Type characters\" id=\"captchacharacters\" name=\"field-keywords\" class=\"a-span12\" autocapitalize=\"off\" autocorrect=\"off\" type=\"text\">\\n                                        </div>\\n                                    </div>\\n                                </div>\\n                            </div>\\n\\n                            <div class=\"a-section a-spacing-extra-large\">\\n\\n                                <div class=\"a-row\">\\n                                    <span class=\"a-button a-button-primary a-span12\">\\n                                        <span class=\"a-button-inner\">\\n                                            <button type=\"submit\" class=\"a-button-text\">Continue shopping</button>\\n                                        </span>\\n                                    </span>\\n                                </div>\\n\\n                            </div>\\n                        </form>\\n\\n                    </div>\\n                </div>\\n\\n            </div>\\n\\n        </div>\\n\\n        <div class=\"a-divider a-divider-section\"><div class=\"a-divider-inner\"></div></div>\\n\\n        <div class=\"a-text-center a-spacing-small a-size-mini\">\\n            <a href=\"https://www.amazon.in/gp/help/customer/display.html/ref=footer_cou?ie=UTF8&nodeId=200545940\">Conditions of Use &amp; Sale</a>\\n            <span class=\"a-letter-space\"></span>\\n            <span class=\"a-letter-space\"></span>\\n            <span class=\"a-letter-space\"></span>\\n            <span class=\"a-letter-space\"></span>\\n            <a href=\"https://www.amazon.in/gp/help/customer/display.html/ref=footer_privacy?ie=UTF8&nodeId=200534380\">Privacy Notice</a>\\n        </div>\\n\\n        <div class=\"a-text-center a-size-mini a-color-secondary\">\\n          &copy; 1996-2015, Amazon.com, Inc. or its affiliates\\n          <script>\\n           if (true === true) {\\n             document.write(\\'<img src=\"https://fls-eu.amaz\\'+\\'on.in/\\'+\\'1/oc-csi/1/OP/requestId=VJG85PN721Q9X0RM9084&js=1\" />\\');\\n           };\\n          </script>\\n          <noscript>\\n            <img src=\"https://fls-eu.amazon.in/1/oc-csi/1/OP/requestId=VJG85PN721Q9X0RM9084&js=0\" />\\n          </noscript>\\n        </div>\\n    </div>\\n    <script>\\n    if (true === true) {\\n        var head = document.getElementsByTagName(\\'head\\')[0],\\n            prefix = \"https://images-eu.ssl-images-amazon.com/images/G/01/csminstrumentation/\",\\n            elem = document.createElement(\"script\");\\n        elem.src = prefix + \"csm-captcha-instrumentation.min.js\";\\n        head.appendChild(elem);\\n\\n        elem = document.createElement(\"script\");\\n        elem.src = prefix + \"rd-script-6d68177fa6061598e9509dc4b5bdd08d.js\";\\n        head.appendChild(elem);\\n    }\\n    </script>\\n</body></html>\\n'"
      ]
     },
     "execution_count": 3,
     "metadata": {},
     "output_type": "execute_result"
    }
   ],
   "source": [
    "URL=\"https://www.amazon.in\"\n",
    "response=requests.get(URL,\"html5lib\")\n",
    "response.content"
   ]
  },
  {
   "cell_type": "code",
   "execution_count": 6,
   "id": "11b0057e-14f9-424a-80ed-210eb7153b6d",
   "metadata": {},
   "outputs": [
    {
     "name": "stdout",
     "output_type": "stream",
     "text": [
      "<!DOCTYPE html>\n",
      "<!--[if lt IE 7]> <html lang=\"en-us\" class=\"a-no-js a-lt-ie9 a-lt-ie8 a-lt-ie7\"> <![endif]-->\n",
      "<!--[if IE 7]>    <html lang=\"en-us\" class=\"a-no-js a-lt-ie9 a-lt-ie8\"> <![endif]-->\n",
      "<!--[if IE 8]>    <html lang=\"en-us\" class=\"a-no-js a-lt-ie9\"> <![endif]-->\n",
      "<!--[if gt IE 8]><!-->\n",
      "<html class=\"a-no-js\" lang=\"en-us\">\n",
      " <!--<![endif]-->\n",
      " <head>\n",
      "  <meta content=\"text/html; charset=utf-8\" http-equiv=\"content-type\"/>\n",
      "  <meta charset=\"utf-8\"/>\n",
      "  <meta content=\"IE=edge,chrome=1\" http-equiv=\"X-UA-Compatible\"/>\n",
      "  <title dir=\"ltr\">\n",
      "   Amazon.in\n",
      "  </title>\n",
      "  <meta content=\"width=device-width\" name=\"viewport\"/>\n",
      "  <link href=\"https://images-na.ssl-images-amazon.com/images/G/01/AUIClients/AmazonUI-3c913031596ca78a3768f4e934b1cc02ce238101.secure.min._V1_.css\" rel=\"stylesheet\"/>\n",
      "  <script>\n",
      "   if (true === true) {\n",
      "    var ue_t0 = (+ new Date()),\n",
      "        ue_csm = window,\n",
      "        ue = { t0: ue_t0, d: function() { return (+new Date() - ue_t0); } },\n",
      "        ue_furl = \"fls-eu.amazon.in\",\n",
      "        ue_mid = \"A21TJRUUN4KGV\",\n",
      "        ue_sid = (document.cookie.match(/session-id=([0-9-]+)/) || [])[1],\n",
      "        ue_sn = \"opfcaptcha.amazon.in\",\n",
      "        ue_id = 'VJG85PN721Q9X0RM9084';\n",
      "}\n",
      "  </script>\n",
      " </head>\n",
      " <body>\n",
      "  <!--\n",
      "        To discuss automated access to Amazon data please contact api-services-support@amazon.com.\n",
      "        For information about migrating to our APIs refer to our Marketplace APIs at https://developer.amazonservices.in/ref=rm_c_sv, or our Product Advertising API at https://affiliate-program.amazon.in/gp/advertising/api/detail/main.html/ref=rm_c_ac for advertising use cases.\n",
      "-->\n",
      "  <!--\n",
      "Correios.DoNotSend\n",
      "-->\n",
      "  <div class=\"a-container a-padding-double-large\" style=\"min-width:350px;padding:44px 0 !important\">\n",
      "   <div class=\"a-row a-spacing-double-large\" style=\"width: 350px; margin: 0 auto\">\n",
      "    <div class=\"a-row a-spacing-medium a-text-center\">\n",
      "     <i class=\"a-icon a-logo\">\n",
      "     </i>\n",
      "    </div>\n",
      "    <div class=\"a-box a-alert a-alert-info a-spacing-base\">\n",
      "     <div class=\"a-box-inner\">\n",
      "      <i class=\"a-icon a-icon-alert\">\n",
      "      </i>\n",
      "      <h4>\n",
      "       Enter the characters you see below\n",
      "      </h4>\n",
      "      <p class=\"a-last\">\n",
      "       Sorry, we just need to make sure you're not a robot. For best results, please make sure your browser is accepting cookies.\n",
      "      </p>\n",
      "     </div>\n",
      "    </div>\n",
      "    <div class=\"a-section\">\n",
      "     <div class=\"a-box a-color-offset-background\">\n",
      "      <div class=\"a-box-inner a-padding-extra-large\">\n",
      "       <form action=\"/errors/validateCaptcha\" method=\"get\" name=\"\">\n",
      "        <input name=\"amzn\" type=\"hidden\" value=\"7A+K3cE02ZvLnR49OXKsWA==\"/>\n",
      "        <input name=\"amzn-r\" type=\"hidden\" value=\"/?html5lib\"/>\n",
      "        <div class=\"a-row a-spacing-large\">\n",
      "         <div class=\"a-box\">\n",
      "          <div class=\"a-box-inner\">\n",
      "           <h4>\n",
      "            Type the characters you see in this image:\n",
      "           </h4>\n",
      "           <!-- For automated access to price change or offer listing change events,\n",
      "                                             please refer to the MWS Subscription API:\n",
      "                                             https://developer.amazonservices.in/gp/mws/api.html/276-5247872-0590350?ie=UTF8&section=subscriptions&group=subscriptions&version=latest\n",
      "                                        -->\n",
      "           <div class=\"a-row a-text-center\">\n",
      "            <img src=\"https://images-na.ssl-images-amazon.com/captcha/qujzzelu/Captcha_vnwgkvwzlm.jpg\"/>\n",
      "           </div>\n",
      "           <div class=\"a-row a-spacing-base\">\n",
      "            <div class=\"a-row\">\n",
      "             <div class=\"a-column a-span6\">\n",
      "             </div>\n",
      "             <div class=\"a-column a-span6 a-span-last a-text-right\">\n",
      "              <a onclick=\"window.location.reload()\">\n",
      "               Try different image\n",
      "              </a>\n",
      "             </div>\n",
      "            </div>\n",
      "            <input autocapitalize=\"off\" autocomplete=\"off\" autocorrect=\"off\" class=\"a-span12\" id=\"captchacharacters\" name=\"field-keywords\" placeholder=\"Type characters\" spellcheck=\"false\" type=\"text\"/>\n",
      "           </div>\n",
      "          </div>\n",
      "         </div>\n",
      "        </div>\n",
      "        <div class=\"a-section a-spacing-extra-large\">\n",
      "         <div class=\"a-row\">\n",
      "          <span class=\"a-button a-button-primary a-span12\">\n",
      "           <span class=\"a-button-inner\">\n",
      "            <button class=\"a-button-text\" type=\"submit\">\n",
      "             Continue shopping\n",
      "            </button>\n",
      "           </span>\n",
      "          </span>\n",
      "         </div>\n",
      "        </div>\n",
      "       </form>\n",
      "      </div>\n",
      "     </div>\n",
      "    </div>\n",
      "   </div>\n",
      "   <div class=\"a-divider a-divider-section\">\n",
      "    <div class=\"a-divider-inner\">\n",
      "    </div>\n",
      "   </div>\n",
      "   <div class=\"a-text-center a-spacing-small a-size-mini\">\n",
      "    <a href=\"https://www.amazon.in/gp/help/customer/display.html/ref=footer_cou?ie=UTF8&amp;nodeId=200545940\">\n",
      "     Conditions of Use &amp; Sale\n",
      "    </a>\n",
      "    <span class=\"a-letter-space\">\n",
      "    </span>\n",
      "    <span class=\"a-letter-space\">\n",
      "    </span>\n",
      "    <span class=\"a-letter-space\">\n",
      "    </span>\n",
      "    <span class=\"a-letter-space\">\n",
      "    </span>\n",
      "    <a href=\"https://www.amazon.in/gp/help/customer/display.html/ref=footer_privacy?ie=UTF8&amp;nodeId=200534380\">\n",
      "     Privacy Notice\n",
      "    </a>\n",
      "   </div>\n",
      "   <div class=\"a-text-center a-size-mini a-color-secondary\">\n",
      "    © 1996-2015, Amazon.com, Inc. or its affiliates\n",
      "    <script>\n",
      "     if (true === true) {\n",
      "             document.write('<img src=\"https://fls-eu.amaz'+'on.in/'+'1/oc-csi/1/OP/requestId=VJG85PN721Q9X0RM9084&js=1\" />');\n",
      "           };\n",
      "    </script>\n",
      "    <noscript>\n",
      "     <img src=\"https://fls-eu.amazon.in/1/oc-csi/1/OP/requestId=VJG85PN721Q9X0RM9084&amp;js=0\"/>\n",
      "    </noscript>\n",
      "   </div>\n",
      "  </div>\n",
      "  <script>\n",
      "   if (true === true) {\n",
      "        var head = document.getElementsByTagName('head')[0],\n",
      "            prefix = \"https://images-eu.ssl-images-amazon.com/images/G/01/csminstrumentation/\",\n",
      "            elem = document.createElement(\"script\");\n",
      "        elem.src = prefix + \"csm-captcha-instrumentation.min.js\";\n",
      "        head.appendChild(elem);\n",
      "\n",
      "        elem = document.createElement(\"script\");\n",
      "        elem.src = prefix + \"rd-script-6d68177fa6061598e9509dc4b5bdd08d.js\";\n",
      "        head.appendChild(elem);\n",
      "    }\n",
      "  </script>\n",
      " </body>\n",
      "</html>\n",
      "\n"
     ]
    }
   ],
   "source": [
    "data=BeautifulSoup(response.content,'html5lib')\n",
    "print(data.prettify())"
   ]
  },
  {
   "cell_type": "code",
   "execution_count": 11,
   "id": "fc53215e-d46f-469d-b8b1-0550f5420859",
   "metadata": {},
   "outputs": [
    {
     "data": {
      "text/plain": [
       "[<div class=\"a-container a-padding-double-large\" style=\"min-width:350px;padding:44px 0 !important\">\n",
       " \n",
       "     <div class=\"a-row a-spacing-double-large\" style=\"width: 350px; margin: 0 auto\">\n",
       " \n",
       "         <div class=\"a-row a-spacing-medium a-text-center\"><i class=\"a-icon a-logo\"></i></div>\n",
       " \n",
       "         <div class=\"a-box a-alert a-alert-info a-spacing-base\">\n",
       "             <div class=\"a-box-inner\">\n",
       "                 <i class=\"a-icon a-icon-alert\"></i>\n",
       "                 <h4>Enter the characters you see below</h4>\n",
       "                 <p class=\"a-last\">Sorry, we just need to make sure you're not a robot. For best results, please make sure your browser is accepting cookies.</p>\n",
       "                 </div>\n",
       "             </div>\n",
       " \n",
       "             <div class=\"a-section\">\n",
       " \n",
       "                 <div class=\"a-box a-color-offset-background\">\n",
       "                     <div class=\"a-box-inner a-padding-extra-large\">\n",
       " \n",
       "                         <form action=\"/errors/validateCaptcha\" method=\"get\" name=\"\">\n",
       "                             <input name=\"amzn\" type=\"hidden\" value=\"7A+K3cE02ZvLnR49OXKsWA==\"/><input name=\"amzn-r\" type=\"hidden\" value=\"/?html5lib\"/>\n",
       "                             <div class=\"a-row a-spacing-large\">\n",
       "                                 <div class=\"a-box\">\n",
       "                                     <div class=\"a-box-inner\">\n",
       "                                         <h4>Type the characters you see in this image:</h4>\n",
       "                                         <!-- For automated access to price change or offer listing change events,\n",
       "                                              please refer to the MWS Subscription API:\n",
       "                                              https://developer.amazonservices.in/gp/mws/api.html/276-5247872-0590350?ie=UTF8&section=subscriptions&group=subscriptions&version=latest\n",
       "                                         -->\n",
       "                                         <div class=\"a-row a-text-center\">\n",
       "                                             <img src=\"https://images-na.ssl-images-amazon.com/captcha/qujzzelu/Captcha_vnwgkvwzlm.jpg\"/>\n",
       "                                         </div>\n",
       "                                         <div class=\"a-row a-spacing-base\">\n",
       "                                             <div class=\"a-row\">\n",
       "                                                 <div class=\"a-column a-span6\">\n",
       "                                                 </div>\n",
       "                                                 <div class=\"a-column a-span6 a-span-last a-text-right\">\n",
       "                                                     <a onclick=\"window.location.reload()\">Try different image</a>\n",
       "                                                 </div>\n",
       "                                             </div>\n",
       "                                             <input autocapitalize=\"off\" autocomplete=\"off\" autocorrect=\"off\" class=\"a-span12\" id=\"captchacharacters\" name=\"field-keywords\" placeholder=\"Type characters\" spellcheck=\"false\" type=\"text\"/>\n",
       "                                         </div>\n",
       "                                     </div>\n",
       "                                 </div>\n",
       "                             </div>\n",
       " \n",
       "                             <div class=\"a-section a-spacing-extra-large\">\n",
       " \n",
       "                                 <div class=\"a-row\">\n",
       "                                     <span class=\"a-button a-button-primary a-span12\">\n",
       "                                         <span class=\"a-button-inner\">\n",
       "                                             <button class=\"a-button-text\" type=\"submit\">Continue shopping</button>\n",
       "                                         </span>\n",
       "                                     </span>\n",
       "                                 </div>\n",
       " \n",
       "                             </div>\n",
       "                         </form>\n",
       " \n",
       "                     </div>\n",
       "                 </div>\n",
       " \n",
       "             </div>\n",
       " \n",
       "         </div>\n",
       " \n",
       "         <div class=\"a-divider a-divider-section\"><div class=\"a-divider-inner\"></div></div>\n",
       " \n",
       "         <div class=\"a-text-center a-spacing-small a-size-mini\">\n",
       "             <a href=\"https://www.amazon.in/gp/help/customer/display.html/ref=footer_cou?ie=UTF8&amp;nodeId=200545940\">Conditions of Use &amp; Sale</a>\n",
       "             <span class=\"a-letter-space\"></span>\n",
       "             <span class=\"a-letter-space\"></span>\n",
       "             <span class=\"a-letter-space\"></span>\n",
       "             <span class=\"a-letter-space\"></span>\n",
       "             <a href=\"https://www.amazon.in/gp/help/customer/display.html/ref=footer_privacy?ie=UTF8&amp;nodeId=200534380\">Privacy Notice</a>\n",
       "         </div>\n",
       " \n",
       "         <div class=\"a-text-center a-size-mini a-color-secondary\">\n",
       "           © 1996-2015, Amazon.com, Inc. or its affiliates\n",
       "           <script>\n",
       "            if (true === true) {\n",
       "              document.write('<img src=\"https://fls-eu.amaz'+'on.in/'+'1/oc-csi/1/OP/requestId=VJG85PN721Q9X0RM9084&js=1\" />');\n",
       "            };\n",
       "           </script>\n",
       "           <noscript>\n",
       "             <img src=\"https://fls-eu.amazon.in/1/oc-csi/1/OP/requestId=VJG85PN721Q9X0RM9084&amp;js=0\"/>\n",
       "           </noscript>\n",
       "         </div>\n",
       "     </div>,\n",
       " <div class=\"a-row a-spacing-double-large\" style=\"width: 350px; margin: 0 auto\">\n",
       " \n",
       "         <div class=\"a-row a-spacing-medium a-text-center\"><i class=\"a-icon a-logo\"></i></div>\n",
       " \n",
       "         <div class=\"a-box a-alert a-alert-info a-spacing-base\">\n",
       "             <div class=\"a-box-inner\">\n",
       "                 <i class=\"a-icon a-icon-alert\"></i>\n",
       "                 <h4>Enter the characters you see below</h4>\n",
       "                 <p class=\"a-last\">Sorry, we just need to make sure you're not a robot. For best results, please make sure your browser is accepting cookies.</p>\n",
       "                 </div>\n",
       "             </div>\n",
       " \n",
       "             <div class=\"a-section\">\n",
       " \n",
       "                 <div class=\"a-box a-color-offset-background\">\n",
       "                     <div class=\"a-box-inner a-padding-extra-large\">\n",
       " \n",
       "                         <form action=\"/errors/validateCaptcha\" method=\"get\" name=\"\">\n",
       "                             <input name=\"amzn\" type=\"hidden\" value=\"7A+K3cE02ZvLnR49OXKsWA==\"/><input name=\"amzn-r\" type=\"hidden\" value=\"/?html5lib\"/>\n",
       "                             <div class=\"a-row a-spacing-large\">\n",
       "                                 <div class=\"a-box\">\n",
       "                                     <div class=\"a-box-inner\">\n",
       "                                         <h4>Type the characters you see in this image:</h4>\n",
       "                                         <!-- For automated access to price change or offer listing change events,\n",
       "                                              please refer to the MWS Subscription API:\n",
       "                                              https://developer.amazonservices.in/gp/mws/api.html/276-5247872-0590350?ie=UTF8&section=subscriptions&group=subscriptions&version=latest\n",
       "                                         -->\n",
       "                                         <div class=\"a-row a-text-center\">\n",
       "                                             <img src=\"https://images-na.ssl-images-amazon.com/captcha/qujzzelu/Captcha_vnwgkvwzlm.jpg\"/>\n",
       "                                         </div>\n",
       "                                         <div class=\"a-row a-spacing-base\">\n",
       "                                             <div class=\"a-row\">\n",
       "                                                 <div class=\"a-column a-span6\">\n",
       "                                                 </div>\n",
       "                                                 <div class=\"a-column a-span6 a-span-last a-text-right\">\n",
       "                                                     <a onclick=\"window.location.reload()\">Try different image</a>\n",
       "                                                 </div>\n",
       "                                             </div>\n",
       "                                             <input autocapitalize=\"off\" autocomplete=\"off\" autocorrect=\"off\" class=\"a-span12\" id=\"captchacharacters\" name=\"field-keywords\" placeholder=\"Type characters\" spellcheck=\"false\" type=\"text\"/>\n",
       "                                         </div>\n",
       "                                     </div>\n",
       "                                 </div>\n",
       "                             </div>\n",
       " \n",
       "                             <div class=\"a-section a-spacing-extra-large\">\n",
       " \n",
       "                                 <div class=\"a-row\">\n",
       "                                     <span class=\"a-button a-button-primary a-span12\">\n",
       "                                         <span class=\"a-button-inner\">\n",
       "                                             <button class=\"a-button-text\" type=\"submit\">Continue shopping</button>\n",
       "                                         </span>\n",
       "                                     </span>\n",
       "                                 </div>\n",
       " \n",
       "                             </div>\n",
       "                         </form>\n",
       " \n",
       "                     </div>\n",
       "                 </div>\n",
       " \n",
       "             </div>\n",
       " \n",
       "         </div>,\n",
       " <div class=\"a-row a-spacing-medium a-text-center\"><i class=\"a-icon a-logo\"></i></div>,\n",
       " <div class=\"a-box a-alert a-alert-info a-spacing-base\">\n",
       "             <div class=\"a-box-inner\">\n",
       "                 <i class=\"a-icon a-icon-alert\"></i>\n",
       "                 <h4>Enter the characters you see below</h4>\n",
       "                 <p class=\"a-last\">Sorry, we just need to make sure you're not a robot. For best results, please make sure your browser is accepting cookies.</p>\n",
       "                 </div>\n",
       "             </div>,\n",
       " <div class=\"a-box-inner\">\n",
       "                 <i class=\"a-icon a-icon-alert\"></i>\n",
       "                 <h4>Enter the characters you see below</h4>\n",
       "                 <p class=\"a-last\">Sorry, we just need to make sure you're not a robot. For best results, please make sure your browser is accepting cookies.</p>\n",
       "                 </div>,\n",
       " <div class=\"a-section\">\n",
       " \n",
       "                 <div class=\"a-box a-color-offset-background\">\n",
       "                     <div class=\"a-box-inner a-padding-extra-large\">\n",
       " \n",
       "                         <form action=\"/errors/validateCaptcha\" method=\"get\" name=\"\">\n",
       "                             <input name=\"amzn\" type=\"hidden\" value=\"7A+K3cE02ZvLnR49OXKsWA==\"/><input name=\"amzn-r\" type=\"hidden\" value=\"/?html5lib\"/>\n",
       "                             <div class=\"a-row a-spacing-large\">\n",
       "                                 <div class=\"a-box\">\n",
       "                                     <div class=\"a-box-inner\">\n",
       "                                         <h4>Type the characters you see in this image:</h4>\n",
       "                                         <!-- For automated access to price change or offer listing change events,\n",
       "                                              please refer to the MWS Subscription API:\n",
       "                                              https://developer.amazonservices.in/gp/mws/api.html/276-5247872-0590350?ie=UTF8&section=subscriptions&group=subscriptions&version=latest\n",
       "                                         -->\n",
       "                                         <div class=\"a-row a-text-center\">\n",
       "                                             <img src=\"https://images-na.ssl-images-amazon.com/captcha/qujzzelu/Captcha_vnwgkvwzlm.jpg\"/>\n",
       "                                         </div>\n",
       "                                         <div class=\"a-row a-spacing-base\">\n",
       "                                             <div class=\"a-row\">\n",
       "                                                 <div class=\"a-column a-span6\">\n",
       "                                                 </div>\n",
       "                                                 <div class=\"a-column a-span6 a-span-last a-text-right\">\n",
       "                                                     <a onclick=\"window.location.reload()\">Try different image</a>\n",
       "                                                 </div>\n",
       "                                             </div>\n",
       "                                             <input autocapitalize=\"off\" autocomplete=\"off\" autocorrect=\"off\" class=\"a-span12\" id=\"captchacharacters\" name=\"field-keywords\" placeholder=\"Type characters\" spellcheck=\"false\" type=\"text\"/>\n",
       "                                         </div>\n",
       "                                     </div>\n",
       "                                 </div>\n",
       "                             </div>\n",
       " \n",
       "                             <div class=\"a-section a-spacing-extra-large\">\n",
       " \n",
       "                                 <div class=\"a-row\">\n",
       "                                     <span class=\"a-button a-button-primary a-span12\">\n",
       "                                         <span class=\"a-button-inner\">\n",
       "                                             <button class=\"a-button-text\" type=\"submit\">Continue shopping</button>\n",
       "                                         </span>\n",
       "                                     </span>\n",
       "                                 </div>\n",
       " \n",
       "                             </div>\n",
       "                         </form>\n",
       " \n",
       "                     </div>\n",
       "                 </div>\n",
       " \n",
       "             </div>,\n",
       " <div class=\"a-box a-color-offset-background\">\n",
       "                     <div class=\"a-box-inner a-padding-extra-large\">\n",
       " \n",
       "                         <form action=\"/errors/validateCaptcha\" method=\"get\" name=\"\">\n",
       "                             <input name=\"amzn\" type=\"hidden\" value=\"7A+K3cE02ZvLnR49OXKsWA==\"/><input name=\"amzn-r\" type=\"hidden\" value=\"/?html5lib\"/>\n",
       "                             <div class=\"a-row a-spacing-large\">\n",
       "                                 <div class=\"a-box\">\n",
       "                                     <div class=\"a-box-inner\">\n",
       "                                         <h4>Type the characters you see in this image:</h4>\n",
       "                                         <!-- For automated access to price change or offer listing change events,\n",
       "                                              please refer to the MWS Subscription API:\n",
       "                                              https://developer.amazonservices.in/gp/mws/api.html/276-5247872-0590350?ie=UTF8&section=subscriptions&group=subscriptions&version=latest\n",
       "                                         -->\n",
       "                                         <div class=\"a-row a-text-center\">\n",
       "                                             <img src=\"https://images-na.ssl-images-amazon.com/captcha/qujzzelu/Captcha_vnwgkvwzlm.jpg\"/>\n",
       "                                         </div>\n",
       "                                         <div class=\"a-row a-spacing-base\">\n",
       "                                             <div class=\"a-row\">\n",
       "                                                 <div class=\"a-column a-span6\">\n",
       "                                                 </div>\n",
       "                                                 <div class=\"a-column a-span6 a-span-last a-text-right\">\n",
       "                                                     <a onclick=\"window.location.reload()\">Try different image</a>\n",
       "                                                 </div>\n",
       "                                             </div>\n",
       "                                             <input autocapitalize=\"off\" autocomplete=\"off\" autocorrect=\"off\" class=\"a-span12\" id=\"captchacharacters\" name=\"field-keywords\" placeholder=\"Type characters\" spellcheck=\"false\" type=\"text\"/>\n",
       "                                         </div>\n",
       "                                     </div>\n",
       "                                 </div>\n",
       "                             </div>\n",
       " \n",
       "                             <div class=\"a-section a-spacing-extra-large\">\n",
       " \n",
       "                                 <div class=\"a-row\">\n",
       "                                     <span class=\"a-button a-button-primary a-span12\">\n",
       "                                         <span class=\"a-button-inner\">\n",
       "                                             <button class=\"a-button-text\" type=\"submit\">Continue shopping</button>\n",
       "                                         </span>\n",
       "                                     </span>\n",
       "                                 </div>\n",
       " \n",
       "                             </div>\n",
       "                         </form>\n",
       " \n",
       "                     </div>\n",
       "                 </div>,\n",
       " <div class=\"a-box-inner a-padding-extra-large\">\n",
       " \n",
       "                         <form action=\"/errors/validateCaptcha\" method=\"get\" name=\"\">\n",
       "                             <input name=\"amzn\" type=\"hidden\" value=\"7A+K3cE02ZvLnR49OXKsWA==\"/><input name=\"amzn-r\" type=\"hidden\" value=\"/?html5lib\"/>\n",
       "                             <div class=\"a-row a-spacing-large\">\n",
       "                                 <div class=\"a-box\">\n",
       "                                     <div class=\"a-box-inner\">\n",
       "                                         <h4>Type the characters you see in this image:</h4>\n",
       "                                         <!-- For automated access to price change or offer listing change events,\n",
       "                                              please refer to the MWS Subscription API:\n",
       "                                              https://developer.amazonservices.in/gp/mws/api.html/276-5247872-0590350?ie=UTF8&section=subscriptions&group=subscriptions&version=latest\n",
       "                                         -->\n",
       "                                         <div class=\"a-row a-text-center\">\n",
       "                                             <img src=\"https://images-na.ssl-images-amazon.com/captcha/qujzzelu/Captcha_vnwgkvwzlm.jpg\"/>\n",
       "                                         </div>\n",
       "                                         <div class=\"a-row a-spacing-base\">\n",
       "                                             <div class=\"a-row\">\n",
       "                                                 <div class=\"a-column a-span6\">\n",
       "                                                 </div>\n",
       "                                                 <div class=\"a-column a-span6 a-span-last a-text-right\">\n",
       "                                                     <a onclick=\"window.location.reload()\">Try different image</a>\n",
       "                                                 </div>\n",
       "                                             </div>\n",
       "                                             <input autocapitalize=\"off\" autocomplete=\"off\" autocorrect=\"off\" class=\"a-span12\" id=\"captchacharacters\" name=\"field-keywords\" placeholder=\"Type characters\" spellcheck=\"false\" type=\"text\"/>\n",
       "                                         </div>\n",
       "                                     </div>\n",
       "                                 </div>\n",
       "                             </div>\n",
       " \n",
       "                             <div class=\"a-section a-spacing-extra-large\">\n",
       " \n",
       "                                 <div class=\"a-row\">\n",
       "                                     <span class=\"a-button a-button-primary a-span12\">\n",
       "                                         <span class=\"a-button-inner\">\n",
       "                                             <button class=\"a-button-text\" type=\"submit\">Continue shopping</button>\n",
       "                                         </span>\n",
       "                                     </span>\n",
       "                                 </div>\n",
       " \n",
       "                             </div>\n",
       "                         </form>\n",
       " \n",
       "                     </div>,\n",
       " <div class=\"a-row a-spacing-large\">\n",
       "                                 <div class=\"a-box\">\n",
       "                                     <div class=\"a-box-inner\">\n",
       "                                         <h4>Type the characters you see in this image:</h4>\n",
       "                                         <!-- For automated access to price change or offer listing change events,\n",
       "                                              please refer to the MWS Subscription API:\n",
       "                                              https://developer.amazonservices.in/gp/mws/api.html/276-5247872-0590350?ie=UTF8&section=subscriptions&group=subscriptions&version=latest\n",
       "                                         -->\n",
       "                                         <div class=\"a-row a-text-center\">\n",
       "                                             <img src=\"https://images-na.ssl-images-amazon.com/captcha/qujzzelu/Captcha_vnwgkvwzlm.jpg\"/>\n",
       "                                         </div>\n",
       "                                         <div class=\"a-row a-spacing-base\">\n",
       "                                             <div class=\"a-row\">\n",
       "                                                 <div class=\"a-column a-span6\">\n",
       "                                                 </div>\n",
       "                                                 <div class=\"a-column a-span6 a-span-last a-text-right\">\n",
       "                                                     <a onclick=\"window.location.reload()\">Try different image</a>\n",
       "                                                 </div>\n",
       "                                             </div>\n",
       "                                             <input autocapitalize=\"off\" autocomplete=\"off\" autocorrect=\"off\" class=\"a-span12\" id=\"captchacharacters\" name=\"field-keywords\" placeholder=\"Type characters\" spellcheck=\"false\" type=\"text\"/>\n",
       "                                         </div>\n",
       "                                     </div>\n",
       "                                 </div>\n",
       "                             </div>,\n",
       " <div class=\"a-box\">\n",
       "                                     <div class=\"a-box-inner\">\n",
       "                                         <h4>Type the characters you see in this image:</h4>\n",
       "                                         <!-- For automated access to price change or offer listing change events,\n",
       "                                              please refer to the MWS Subscription API:\n",
       "                                              https://developer.amazonservices.in/gp/mws/api.html/276-5247872-0590350?ie=UTF8&section=subscriptions&group=subscriptions&version=latest\n",
       "                                         -->\n",
       "                                         <div class=\"a-row a-text-center\">\n",
       "                                             <img src=\"https://images-na.ssl-images-amazon.com/captcha/qujzzelu/Captcha_vnwgkvwzlm.jpg\"/>\n",
       "                                         </div>\n",
       "                                         <div class=\"a-row a-spacing-base\">\n",
       "                                             <div class=\"a-row\">\n",
       "                                                 <div class=\"a-column a-span6\">\n",
       "                                                 </div>\n",
       "                                                 <div class=\"a-column a-span6 a-span-last a-text-right\">\n",
       "                                                     <a onclick=\"window.location.reload()\">Try different image</a>\n",
       "                                                 </div>\n",
       "                                             </div>\n",
       "                                             <input autocapitalize=\"off\" autocomplete=\"off\" autocorrect=\"off\" class=\"a-span12\" id=\"captchacharacters\" name=\"field-keywords\" placeholder=\"Type characters\" spellcheck=\"false\" type=\"text\"/>\n",
       "                                         </div>\n",
       "                                     </div>\n",
       "                                 </div>,\n",
       " <div class=\"a-box-inner\">\n",
       "                                         <h4>Type the characters you see in this image:</h4>\n",
       "                                         <!-- For automated access to price change or offer listing change events,\n",
       "                                              please refer to the MWS Subscription API:\n",
       "                                              https://developer.amazonservices.in/gp/mws/api.html/276-5247872-0590350?ie=UTF8&section=subscriptions&group=subscriptions&version=latest\n",
       "                                         -->\n",
       "                                         <div class=\"a-row a-text-center\">\n",
       "                                             <img src=\"https://images-na.ssl-images-amazon.com/captcha/qujzzelu/Captcha_vnwgkvwzlm.jpg\"/>\n",
       "                                         </div>\n",
       "                                         <div class=\"a-row a-spacing-base\">\n",
       "                                             <div class=\"a-row\">\n",
       "                                                 <div class=\"a-column a-span6\">\n",
       "                                                 </div>\n",
       "                                                 <div class=\"a-column a-span6 a-span-last a-text-right\">\n",
       "                                                     <a onclick=\"window.location.reload()\">Try different image</a>\n",
       "                                                 </div>\n",
       "                                             </div>\n",
       "                                             <input autocapitalize=\"off\" autocomplete=\"off\" autocorrect=\"off\" class=\"a-span12\" id=\"captchacharacters\" name=\"field-keywords\" placeholder=\"Type characters\" spellcheck=\"false\" type=\"text\"/>\n",
       "                                         </div>\n",
       "                                     </div>,\n",
       " <div class=\"a-row a-text-center\">\n",
       "                                             <img src=\"https://images-na.ssl-images-amazon.com/captcha/qujzzelu/Captcha_vnwgkvwzlm.jpg\"/>\n",
       "                                         </div>,\n",
       " <div class=\"a-row a-spacing-base\">\n",
       "                                             <div class=\"a-row\">\n",
       "                                                 <div class=\"a-column a-span6\">\n",
       "                                                 </div>\n",
       "                                                 <div class=\"a-column a-span6 a-span-last a-text-right\">\n",
       "                                                     <a onclick=\"window.location.reload()\">Try different image</a>\n",
       "                                                 </div>\n",
       "                                             </div>\n",
       "                                             <input autocapitalize=\"off\" autocomplete=\"off\" autocorrect=\"off\" class=\"a-span12\" id=\"captchacharacters\" name=\"field-keywords\" placeholder=\"Type characters\" spellcheck=\"false\" type=\"text\"/>\n",
       "                                         </div>,\n",
       " <div class=\"a-row\">\n",
       "                                                 <div class=\"a-column a-span6\">\n",
       "                                                 </div>\n",
       "                                                 <div class=\"a-column a-span6 a-span-last a-text-right\">\n",
       "                                                     <a onclick=\"window.location.reload()\">Try different image</a>\n",
       "                                                 </div>\n",
       "                                             </div>,\n",
       " <div class=\"a-column a-span6\">\n",
       "                                                 </div>,\n",
       " <div class=\"a-column a-span6 a-span-last a-text-right\">\n",
       "                                                     <a onclick=\"window.location.reload()\">Try different image</a>\n",
       "                                                 </div>,\n",
       " <div class=\"a-section a-spacing-extra-large\">\n",
       " \n",
       "                                 <div class=\"a-row\">\n",
       "                                     <span class=\"a-button a-button-primary a-span12\">\n",
       "                                         <span class=\"a-button-inner\">\n",
       "                                             <button class=\"a-button-text\" type=\"submit\">Continue shopping</button>\n",
       "                                         </span>\n",
       "                                     </span>\n",
       "                                 </div>\n",
       " \n",
       "                             </div>,\n",
       " <div class=\"a-row\">\n",
       "                                     <span class=\"a-button a-button-primary a-span12\">\n",
       "                                         <span class=\"a-button-inner\">\n",
       "                                             <button class=\"a-button-text\" type=\"submit\">Continue shopping</button>\n",
       "                                         </span>\n",
       "                                     </span>\n",
       "                                 </div>,\n",
       " <div class=\"a-divider a-divider-section\"><div class=\"a-divider-inner\"></div></div>,\n",
       " <div class=\"a-divider-inner\"></div>,\n",
       " <div class=\"a-text-center a-spacing-small a-size-mini\">\n",
       "             <a href=\"https://www.amazon.in/gp/help/customer/display.html/ref=footer_cou?ie=UTF8&amp;nodeId=200545940\">Conditions of Use &amp; Sale</a>\n",
       "             <span class=\"a-letter-space\"></span>\n",
       "             <span class=\"a-letter-space\"></span>\n",
       "             <span class=\"a-letter-space\"></span>\n",
       "             <span class=\"a-letter-space\"></span>\n",
       "             <a href=\"https://www.amazon.in/gp/help/customer/display.html/ref=footer_privacy?ie=UTF8&amp;nodeId=200534380\">Privacy Notice</a>\n",
       "         </div>,\n",
       " <div class=\"a-text-center a-size-mini a-color-secondary\">\n",
       "           © 1996-2015, Amazon.com, Inc. or its affiliates\n",
       "           <script>\n",
       "            if (true === true) {\n",
       "              document.write('<img src=\"https://fls-eu.amaz'+'on.in/'+'1/oc-csi/1/OP/requestId=VJG85PN721Q9X0RM9084&js=1\" />');\n",
       "            };\n",
       "           </script>\n",
       "           <noscript>\n",
       "             <img src=\"https://fls-eu.amazon.in/1/oc-csi/1/OP/requestId=VJG85PN721Q9X0RM9084&amp;js=0\"/>\n",
       "           </noscript>\n",
       "         </div>]"
      ]
     },
     "execution_count": 11,
     "metadata": {},
     "output_type": "execute_result"
    }
   ],
   "source": [
    "data.findAll('div')"
   ]
  },
  {
   "cell_type": "code",
   "execution_count": 8,
   "id": "c4410e1c-ba2f-48b0-9db3-e1192adaa265",
   "metadata": {},
   "outputs": [
    {
     "data": {
      "text/plain": [
       "[<img src=\"https://images-na.ssl-images-amazon.com/captcha/qujzzelu/Captcha_vnwgkvwzlm.jpg\"/>,\n",
       " <img src=\"https://fls-eu.amazon.in/1/oc-csi/1/OP/requestId=VJG85PN721Q9X0RM9084&amp;js=0\"/>]"
      ]
     },
     "execution_count": 8,
     "metadata": {},
     "output_type": "execute_result"
    }
   ],
   "source": [
    "data.findAll('img')"
   ]
  },
  {
   "cell_type": "code",
   "execution_count": 9,
   "id": "a7c1c745-2aa6-4a02-852c-72297ed28a2b",
   "metadata": {},
   "outputs": [
    {
     "data": {
      "text/plain": [
       "[<p class=\"a-last\">Sorry, we just need to make sure you're not a robot. For best results, please make sure your browser is accepting cookies.</p>]"
      ]
     },
     "execution_count": 9,
     "metadata": {},
     "output_type": "execute_result"
    }
   ],
   "source": [
    "data.findAll('p')"
   ]
  },
  {
   "cell_type": "code",
   "execution_count": 13,
   "id": "10081f78-35a2-4658-ac90-904a78da18a3",
   "metadata": {},
   "outputs": [
    {
     "data": {
      "text/plain": [
       "<p class=\"a-last\">Sorry, we just need to make sure you're not a robot. For best results, please make sure your browser is accepting cookies.</p>"
      ]
     },
     "execution_count": 13,
     "metadata": {},
     "output_type": "execute_result"
    }
   ],
   "source": [
    "data.find('p')"
   ]
  },
  {
   "cell_type": "code",
   "execution_count": 15,
   "id": "6b6348be-764b-4d09-8d2f-075a7f31ba9d",
   "metadata": {},
   "outputs": [
    {
     "data": {
      "text/plain": [
       "\"Sorry, we just need to make sure you're not a robot. For best results, please make sure your browser is accepting cookies.\""
      ]
     },
     "execution_count": 15,
     "metadata": {},
     "output_type": "execute_result"
    }
   ],
   "source": [
    "result=data.find('p')\n",
    "result.text"
   ]
  },
  {
   "cell_type": "code",
   "execution_count": 17,
   "id": "f4c6744d-ccf9-43e4-9be2-2f1567f39705",
   "metadata": {},
   "outputs": [
    {
     "data": {
      "text/plain": [
       "<a onclick=\"window.location.reload()\">Try different image</a>"
      ]
     },
     "execution_count": 17,
     "metadata": {},
     "output_type": "execute_result"
    }
   ],
   "source": [
    "result=data.find('a')\n",
    "result"
   ]
  },
  {
   "cell_type": "code",
   "execution_count": 19,
   "id": "e62e6302-f47d-42c0-9492-0e9db070915c",
   "metadata": {},
   "outputs": [
    {
     "data": {
      "text/plain": [
       "'window.location.reload()'"
      ]
     },
     "execution_count": 19,
     "metadata": {},
     "output_type": "execute_result"
    }
   ],
   "source": [
    "result['onclick']"
   ]
  },
  {
   "cell_type": "code",
   "execution_count": 26,
   "id": "dc1bed8c-0d4d-4c51-b048-e9e4d2fba7cb",
   "metadata": {},
   "outputs": [
    {
     "data": {
      "text/plain": [
       "'https://www.amazon.in/gp/help/customer/display.html/ref=footer_cou?ie=UTF8&nodeId=200545940'"
      ]
     },
     "execution_count": 26,
     "metadata": {},
     "output_type": "execute_result"
    }
   ],
   "source": [
    "res=data.findAll('a')\n",
    "res[1]['href']"
   ]
  },
  {
   "cell_type": "code",
   "execution_count": 27,
   "id": "3a432481-7a1d-4154-a458-fec5fe419086",
   "metadata": {},
   "outputs": [
    {
     "data": {
      "text/plain": [
       "'https://www.amazon.in/gp/help/customer/display.html/ref=footer_privacy?ie=UTF8&nodeId=200534380'"
      ]
     },
     "execution_count": 27,
     "metadata": {},
     "output_type": "execute_result"
    }
   ],
   "source": [
    "res[2]['href']"
   ]
  },
  {
   "cell_type": "code",
   "execution_count": 31,
   "id": "9ce7ec87-70ce-4db5-9e74-f5955a37e8dd",
   "metadata": {},
   "outputs": [
    {
     "data": {
      "text/plain": [
       "'<div class=\"a-section a-spacing-extra-large\">\\n <div class=\"a-row\">\\n  <span class=\"a-button a-button-primary a-span12\">\\n   <span class=\"a-button-inner\">\\n    <button class=\"a-button-text\" type=\"submit\">\\n     Continue shopping\\n    </button>\\n   </span>\\n  </span>\\n </div>\\n</div>\\n'"
      ]
     },
     "execution_count": 31,
     "metadata": {},
     "output_type": "execute_result"
    }
   ],
   "source": [
    "res=data.find('div',attrs={'class':'a-section a-spacing-extra-large'})\n",
    "res.prettify()"
   ]
  },
  {
   "cell_type": "code",
   "execution_count": null,
   "id": "beaff98f-977b-449e-bc07-59caaa686a65",
   "metadata": {},
   "outputs": [],
   "source": []
  },
  {
   "cell_type": "code",
   "execution_count": null,
   "id": "9ddec006-5648-43b7-8a98-620c3b9c38bc",
   "metadata": {},
   "outputs": [],
   "source": []
  },
  {
   "cell_type": "code",
   "execution_count": null,
   "id": "4085e75f-22dd-409a-969b-4d2ca73df8d9",
   "metadata": {},
   "outputs": [],
   "source": []
  },
  {
   "cell_type": "code",
   "execution_count": null,
   "id": "9a95ae2d-ae7d-42ad-8bd8-3ef7ea6868ea",
   "metadata": {},
   "outputs": [],
   "source": []
  },
  {
   "cell_type": "code",
   "execution_count": null,
   "id": "c77338a7-6740-474a-8436-a9afb6d65ee6",
   "metadata": {},
   "outputs": [],
   "source": []
  },
  {
   "cell_type": "code",
   "execution_count": null,
   "id": "23e80ef5-63a3-460e-bf1e-f1926b0ee063",
   "metadata": {},
   "outputs": [],
   "source": []
  }
 ],
 "metadata": {
  "kernelspec": {
   "display_name": "Python 3 (ipykernel)",
   "language": "python",
   "name": "python3"
  },
  "language_info": {
   "codemirror_mode": {
    "name": "ipython",
    "version": 3
   },
   "file_extension": ".py",
   "mimetype": "text/x-python",
   "name": "python",
   "nbconvert_exporter": "python",
   "pygments_lexer": "ipython3",
   "version": "3.12.0"
  }
 },
 "nbformat": 4,
 "nbformat_minor": 5
}
