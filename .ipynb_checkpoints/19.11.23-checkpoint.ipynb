{
 "cells": [
  {
   "cell_type": "code",
   "execution_count": null,
   "id": "952afa2a-ba3e-472c-80fa-67d65d32dcd3",
   "metadata": {},
   "outputs": [],
   "source": [
    "# for loops\n",
    "# syntax\n",
    "#     for variable_name in  data that need iteration:\n",
    "#          four space or 1 tap\n"
   ]
  },
  {
   "cell_type": "code",
   "execution_count": 1,
   "id": "121ec959-f76a-4405-b9d4-0612ff53987f",
   "metadata": {},
   "outputs": [
    {
     "name": "stdout",
     "output_type": "stream",
     "text": [
      "aa\n",
      "bb\n",
      "cc\n",
      "dd\n",
      "ee\n"
     ]
    }
   ],
   "source": [
    "names =['a','b','c','d','e']\n",
    "for name in names:\n",
    "    print(name+name)"
   ]
  },
  {
   "cell_type": "code",
   "execution_count": 6,
   "id": "49993d82-87f9-4d21-9dc0-52d61052ca11",
   "metadata": {},
   "outputs": [
    {
     "name": "stdin",
     "output_type": "stream",
     "text": [
      "Enter number: 5\n"
     ]
    },
    {
     "name": "stdout",
     "output_type": "stream",
     "text": [
      "120\n"
     ]
    }
   ],
   "source": [
    "# find the factorial of n \n",
    "n=int(input(\"Enter number:\"))\n",
    "fact=1\n",
    "for i in range(fact,n+1):\n",
    "    fact*=i\n",
    "print(fact)"
   ]
  },
  {
   "cell_type": "code",
   "execution_count": null,
   "id": "f8d64ab8-ede0-4100-8667-ff119bbc2be2",
   "metadata": {},
   "outputs": [],
   "source": [
    "# while loops\n",
    "# syntax\n",
    "#   while  condition:\n",
    "#     index=1\n",
    "# while index<=10:\n",
    "#    print(index)\n",
    "#    index=index+1"
   ]
  },
  {
   "cell_type": "code",
   "execution_count": 14,
   "id": "93e5d08f-d097-4adb-a93e-26df35d83265",
   "metadata": {},
   "outputs": [
    {
     "name": "stdin",
     "output_type": "stream",
     "text": [
      " 5\n"
     ]
    },
    {
     "name": "stdout",
     "output_type": "stream",
     "text": [
      "120\n"
     ]
    }
   ],
   "source": [
    "# using while loop find factorial of n:\n",
    "\n",
    "n=int(input())\n",
    "fact=1\n",
    "index=1\n",
    "while index<=n:\n",
    "    fact=fact*index\n",
    "    index=index+1\n",
    "print(fact)"
   ]
  },
  {
   "cell_type": "code",
   "execution_count": 3,
   "id": "992d7da2-f894-47d3-9185-0fb77320fb1b",
   "metadata": {},
   "outputs": [
    {
     "name": "stdin",
     "output_type": "stream",
     "text": [
      "Enter number: 5\n"
     ]
    },
    {
     "name": "stdout",
     "output_type": "stream",
     "text": [
      "15\n"
     ]
    }
   ],
   "source": [
    "# Write a program to find sum of first n natural numbers\n",
    "n=int(input(\"Enter number:\"))\n",
    "sum=0\n",
    "index=1\n",
    "while index<=n:\n",
    "    sum+=index\n",
    "    index+=1\n",
    "print(sum)"
   ]
  },
  {
   "cell_type": "code",
   "execution_count": null,
   "id": "fad9206b-869f-4704-bcf7-4272b31c8ffd",
   "metadata": {},
   "outputs": [],
   "source": [
    "# Functions \n",
    "# Syntax \n",
    "# def=> function definition name_function(argument,argument2):\n",
    "# one_tap_space => return data,data1,data2\n"
   ]
  },
  {
   "cell_type": "code",
   "execution_count": 6,
   "id": "cc63633c-0168-465d-aebd-f00ba9f676ca",
   "metadata": {},
   "outputs": [
    {
     "name": "stdout",
     "output_type": "stream",
     "text": [
      "100.0\n"
     ]
    }
   ],
   "source": [
    "# write a function that compute tax of the user based on income user need to pay 10% of income as tax.\n",
    "def compute_tax(income):\n",
    "    tax=0.1*income\n",
    "    return tax\n",
    "user_tax=compute_tax(1000)\n",
    "print(user_tax)\n",
    "    "
   ]
  },
  {
   "cell_type": "code",
   "execution_count": 17,
   "id": "0d10b386-93bd-49a4-86a9-3bd9d9445a32",
   "metadata": {},
   "outputs": [
    {
     "name": "stdin",
     "output_type": "stream",
     "text": [
      " 5\n"
     ]
    },
    {
     "data": {
      "text/plain": [
       "120"
      ]
     },
     "execution_count": 17,
     "metadata": {},
     "output_type": "execute_result"
    }
   ],
   "source": [
    "# Write a function that can compute factorial of n:\n",
    "def factorial(n):\n",
    "    fact=1\n",
    "    index=1\n",
    "    while index<=n:\n",
    "        fact=fact*index\n",
    "        index=index+1\n",
    "    return fact\n",
    "\n",
    "factorial_number=factorial((int(input())))\n",
    "factorial_number\n"
   ]
  },
  {
   "cell_type": "code",
   "execution_count": 21,
   "id": "504a8685-b264-4c52-9eab-cff689d3f6eb",
   "metadata": {},
   "outputs": [
    {
     "name": "stdout",
     "output_type": "stream",
     "text": [
      "HRA is45000.0,tax is90000.0,PPF is135000.0,user inhand is 630000.0\n"
     ]
    }
   ],
   "source": [
    "def get_income(ctc):\n",
    "    hra=0.05*ctc\n",
    "    tax=0.1*ctc\n",
    "    ppf=0.15*ctc\n",
    "    inhand=ctc-(hra+tax+ppf)\n",
    "    return hra,tax,ppf,inhand\n",
    "user_hra,user_tax,user_ppf,user_inhand=get_income(900000)\n",
    "print(f'HRA is{user_hra},tax is{user_tax},PPF is{user_ppf},user inhand is {user_inhand}')"
   ]
  },
  {
   "cell_type": "code",
   "execution_count": 23,
   "id": "c6b232ca-5b60-4267-a0a0-c34f0067a905",
   "metadata": {},
   "outputs": [],
   "source": [
    "import math"
   ]
  },
  {
   "cell_type": "code",
   "execution_count": 25,
   "id": "0155bbd8-39c7-4924-828e-58b4fdff06fb",
   "metadata": {},
   "outputs": [
    {
     "data": {
      "text/plain": [
       "9"
      ]
     },
     "execution_count": 25,
     "metadata": {},
     "output_type": "execute_result"
    }
   ],
   "source": [
    "# ceil\n",
    "math.ceil(8.1)"
   ]
  }
 ],
 "metadata": {
  "kernelspec": {
   "display_name": "Python 3 (ipykernel)",
   "language": "python",
   "name": "python3"
  },
  "language_info": {
   "codemirror_mode": {
    "name": "ipython",
    "version": 3
   },
   "file_extension": ".py",
   "mimetype": "text/x-python",
   "name": "python",
   "nbconvert_exporter": "python",
   "pygments_lexer": "ipython3",
   "version": "3.12.0"
  }
 },
 "nbformat": 4,
 "nbformat_minor": 5
}
