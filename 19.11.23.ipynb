{
 "cells": [
  {
   "cell_type": "code",
   "execution_count": null,
   "id": "952afa2a-ba3e-472c-80fa-67d65d32dcd3",
   "metadata": {},
   "outputs": [],
   "source": [
    "# for loops\n",
    "# syntax\n",
    "#     for variable_name in  data that need iteration:\n",
    "#          four space or 1 tap\n"
   ]
  },
  {
   "cell_type": "code",
   "execution_count": 1,
   "id": "121ec959-f76a-4405-b9d4-0612ff53987f",
   "metadata": {},
   "outputs": [
    {
     "name": "stdout",
     "output_type": "stream",
     "text": [
      "aa\n",
      "bb\n",
      "cc\n",
      "dd\n",
      "ee\n"
     ]
    }
   ],
   "source": [
    "names =['a','b','c','d','e']\n",
    "for name in names:\n",
    "    print(name+name)"
   ]
  },
  {
   "cell_type": "code",
   "execution_count": 6,
   "id": "49993d82-87f9-4d21-9dc0-52d61052ca11",
   "metadata": {},
   "outputs": [
    {
     "name": "stdin",
     "output_type": "stream",
     "text": [
      "Enter number: 5\n"
     ]
    },
    {
     "name": "stdout",
     "output_type": "stream",
     "text": [
      "120\n"
     ]
    }
   ],
   "source": [
    "# find the factorial of n \n",
    "n=int(input(\"Enter number:\"))\n",
    "fact=1\n",
    "for i in range(fact,n+1):\n",
    "    fact*=i\n",
    "print(fact)"
   ]
  },
  {
   "cell_type": "code",
   "execution_count": null,
   "id": "f8d64ab8-ede0-4100-8667-ff119bbc2be2",
   "metadata": {},
   "outputs": [],
   "source": [
    "# while loops\n",
    "# syntax\n",
    "#   while  condition:\n",
    "#     index=1\n",
    "# while index<=10:\n",
    "#    print(index)\n",
    "#    index=index+1"
   ]
  },
  {
   "cell_type": "code",
   "execution_count": 14,
   "id": "93e5d08f-d097-4adb-a93e-26df35d83265",
   "metadata": {},
   "outputs": [
    {
     "name": "stdin",
     "output_type": "stream",
     "text": [
      " 5\n"
     ]
    },
    {
     "name": "stdout",
     "output_type": "stream",
     "text": [
      "120\n"
     ]
    }
   ],
   "source": [
    "# using while loop find factorial of n:\n",
    "\n",
    "n=int(input())\n",
    "fact=1\n",
    "index=1\n",
    "while index<=n:\n",
    "    fact=fact*index\n",
    "    index=index+1\n",
    "print(fact)"
   ]
  },
  {
   "cell_type": "code",
   "execution_count": 3,
   "id": "992d7da2-f894-47d3-9185-0fb77320fb1b",
   "metadata": {},
   "outputs": [
    {
     "name": "stdin",
     "output_type": "stream",
     "text": [
      "Enter number: 5\n"
     ]
    },
    {
     "name": "stdout",
     "output_type": "stream",
     "text": [
      "15\n"
     ]
    }
   ],
   "source": [
    "# Write a program to find sum of first n natural numbers\n",
    "n=int(input(\"Enter number:\"))\n",
    "sum=0\n",
    "index=1\n",
    "while index<=n:\n",
    "    sum+=index\n",
    "    index+=1\n",
    "print(sum)"
   ]
  },
  {
   "cell_type": "code",
   "execution_count": null,
   "id": "fad9206b-869f-4704-bcf7-4272b31c8ffd",
   "metadata": {},
   "outputs": [],
   "source": [
    "# Functions \n",
    "# Syntax \n",
    "# def=> function definition name_function(argument,argument2):\n",
    "# one_tap_space => return data,data1,data2\n"
   ]
  },
  {
   "cell_type": "code",
   "execution_count": 6,
   "id": "cc63633c-0168-465d-aebd-f00ba9f676ca",
   "metadata": {},
   "outputs": [
    {
     "name": "stdout",
     "output_type": "stream",
     "text": [
      "100.0\n"
     ]
    }
   ],
   "source": [
    "# write a function that compute tax of the user based on income user need to pay 10% of income as tax.\n",
    "def compute_tax(income):\n",
    "    tax=0.1*income\n",
    "    return tax\n",
    "user_tax=compute_tax(1000)\n",
    "print(user_tax)\n",
    "    "
   ]
  },
  {
   "cell_type": "code",
   "execution_count": 17,
   "id": "0d10b386-93bd-49a4-86a9-3bd9d9445a32",
   "metadata": {},
   "outputs": [
    {
     "name": "stdin",
     "output_type": "stream",
     "text": [
      " 5\n"
     ]
    },
    {
     "data": {
      "text/plain": [
       "120"
      ]
     },
     "execution_count": 17,
     "metadata": {},
     "output_type": "execute_result"
    }
   ],
   "source": [
    "# Write a function that can compute factorial of n:\n",
    "def factorial(n):\n",
    "    fact=1\n",
    "    index=1\n",
    "    while index<=n:\n",
    "        fact=fact*index\n",
    "        index=index+1\n",
    "    return fact\n",
    "\n",
    "factorial_number=factorial((int(input())))\n",
    "factorial_number\n"
   ]
  },
  {
   "cell_type": "code",
   "execution_count": 21,
   "id": "504a8685-b264-4c52-9eab-cff689d3f6eb",
   "metadata": {},
   "outputs": [
    {
     "name": "stdout",
     "output_type": "stream",
     "text": [
      "HRA is45000.0,tax is90000.0,PPF is135000.0,user inhand is 630000.0\n"
     ]
    }
   ],
   "source": [
    "def get_income(ctc):\n",
    "    hra=0.05*ctc\n",
    "    tax=0.1*ctc\n",
    "    ppf=0.15*ctc\n",
    "    inhand=ctc-(hra+tax+ppf)\n",
    "    return hra,tax,ppf,inhand\n",
    "user_hra,user_tax,user_ppf,user_inhand=get_income(900000)\n",
    "print(f'HRA is{user_hra},tax is{user_tax},PPF is{user_ppf},user inhand is {user_inhand}')"
   ]
  },
  {
   "cell_type": "code",
   "execution_count": 2,
   "id": "c6b232ca-5b60-4267-a0a0-c34f0067a905",
   "metadata": {},
   "outputs": [],
   "source": [
    "import math"
   ]
  },
  {
   "cell_type": "code",
   "execution_count": 25,
   "id": "0155bbd8-39c7-4924-828e-58b4fdff06fb",
   "metadata": {},
   "outputs": [
    {
     "data": {
      "text/plain": [
       "9"
      ]
     },
     "execution_count": 25,
     "metadata": {},
     "output_type": "execute_result"
    }
   ],
   "source": [
    "# ceil\n",
    "math.ceil(8.1)"
   ]
  },
  {
   "cell_type": "code",
   "execution_count": 3,
   "id": "d627b248-e96d-4d1f-ac62-ae15d52ad411",
   "metadata": {},
   "outputs": [
    {
     "data": {
      "text/plain": [
       "9"
      ]
     },
     "execution_count": 3,
     "metadata": {},
     "output_type": "execute_result"
    }
   ],
   "source": [
    "math.ceil(8.00001)\n"
   ]
  },
  {
   "cell_type": "code",
   "execution_count": 4,
   "id": "c617e707-c417-4d3c-8431-3614f755c694",
   "metadata": {},
   "outputs": [
    {
     "data": {
      "text/plain": [
       "8"
      ]
     },
     "execution_count": 4,
     "metadata": {},
     "output_type": "execute_result"
    }
   ],
   "source": [
    "#floor\n",
    "math.floor(8.9)"
   ]
  },
  {
   "cell_type": "code",
   "execution_count": 5,
   "id": "85700dfe-553d-4b89-bf7a-5a4a59194e0a",
   "metadata": {},
   "outputs": [
    {
     "data": {
      "text/plain": [
       "8"
      ]
     },
     "execution_count": 5,
     "metadata": {},
     "output_type": "execute_result"
    }
   ],
   "source": [
    "math.floor(8.00001)"
   ]
  },
  {
   "cell_type": "code",
   "execution_count": 6,
   "id": "20a30773-25bc-4cf6-ac5f-9c9c0342e039",
   "metadata": {},
   "outputs": [
    {
     "data": {
      "text/plain": [
       "3"
      ]
     },
     "execution_count": 6,
     "metadata": {},
     "output_type": "execute_result"
    }
   ],
   "source": [
    "math.gcd(12,9)"
   ]
  },
  {
   "cell_type": "code",
   "execution_count": 7,
   "id": "c7d5bc70-4077-4f62-bb1a-edd9e76558e7",
   "metadata": {},
   "outputs": [
    {
     "data": {
      "text/plain": [
       "6"
      ]
     },
     "execution_count": 7,
     "metadata": {},
     "output_type": "execute_result"
    }
   ],
   "source": [
    "math.gcd(18,12)"
   ]
  },
  {
   "cell_type": "code",
   "execution_count": 8,
   "id": "2e38b55a-705b-468c-b572-932bd19d0e41",
   "metadata": {},
   "outputs": [
    {
     "data": {
      "text/plain": [
       "4"
      ]
     },
     "execution_count": 8,
     "metadata": {},
     "output_type": "execute_result"
    }
   ],
   "source": [
    "math.lcm(4,2)"
   ]
  },
  {
   "cell_type": "code",
   "execution_count": 9,
   "id": "3df9286e-c179-4114-9808-daa269f2d625",
   "metadata": {},
   "outputs": [
    {
     "data": {
      "text/plain": [
       "24"
      ]
     },
     "execution_count": 9,
     "metadata": {},
     "output_type": "execute_result"
    }
   ],
   "source": [
    "math.lcm(12,8)"
   ]
  },
  {
   "cell_type": "code",
   "execution_count": 10,
   "id": "7bab1b96-c6b8-43a4-9e68-cd539b5b72f4",
   "metadata": {},
   "outputs": [
    {
     "data": {
      "text/plain": [
       "8.0"
      ]
     },
     "execution_count": 10,
     "metadata": {},
     "output_type": "execute_result"
    }
   ],
   "source": [
    "math.pow(2,3)"
   ]
  },
  {
   "cell_type": "code",
   "execution_count": 11,
   "id": "1d9767a3-8286-4e54-abd7-ab05f4ed97ef",
   "metadata": {},
   "outputs": [
    {
     "data": {
      "text/plain": [
       "3.141592653589793"
      ]
     },
     "execution_count": 11,
     "metadata": {},
     "output_type": "execute_result"
    }
   ],
   "source": [
    "math.pi"
   ]
  },
  {
   "cell_type": "code",
   "execution_count": 12,
   "id": "594baf7b-99dd-409a-9c48-50349593f9dd",
   "metadata": {},
   "outputs": [
    {
     "data": {
      "text/plain": [
       "6.283185307179586"
      ]
     },
     "execution_count": 12,
     "metadata": {},
     "output_type": "execute_result"
    }
   ],
   "source": [
    "math.tau"
   ]
  },
  {
   "cell_type": "code",
   "execution_count": 13,
   "id": "859e3b53-876d-4cde-a908-89fa1688485e",
   "metadata": {},
   "outputs": [
    {
     "data": {
      "text/plain": [
       "0.479425538604203"
      ]
     },
     "execution_count": 13,
     "metadata": {},
     "output_type": "execute_result"
    }
   ],
   "source": [
    "math.sin(0.5)"
   ]
  },
  {
   "cell_type": "code",
   "execution_count": 20,
   "id": "908f844a-ee01-4652-8ab1-d6da51cac6a7",
   "metadata": {},
   "outputs": [
    {
     "name": "stdin",
     "output_type": "stream",
     "text": [
      "How much is your income 10000\n"
     ]
    },
    {
     "name": "stdout",
     "output_type": "stream",
     "text": [
      "As you income is 10000.0,thus you need to pay 1000.0 as tax\n"
     ]
    }
   ],
   "source": [
    "# Functions as argumentsg \n",
    "def take_income():\n",
    "    income=input(\"How much is your income\")\n",
    "    income=float(income)\n",
    "    return income\n",
    "def compute_tax(income):\n",
    "    tax=0.1*income\n",
    "    return tax\n",
    "user_tax=compute_tax(take_income())\n",
    "print(f\"As you income is {user_income},thus you need to pay {user_tax} as tax\")"
   ]
  },
  {
   "cell_type": "code",
   "execution_count": null,
   "id": "2ffe6e8c-3b0e-4d74-b93e-eab3f7be9481",
   "metadata": {},
   "outputs": [],
   "source": []
  },
  {
   "cell_type": "code",
   "execution_count": null,
   "id": "229ae605-1d52-4115-a5bb-8f6df1884afc",
   "metadata": {},
   "outputs": [],
   "source": []
  },
  {
   "cell_type": "code",
   "execution_count": null,
   "id": "95a89b57-eb55-4ae3-8b06-36df8cc0dbc9",
   "metadata": {},
   "outputs": [],
   "source": []
  },
  {
   "cell_type": "code",
   "execution_count": null,
   "id": "fd460c63-d071-4bf0-8b9f-29ce151d95b7",
   "metadata": {},
   "outputs": [],
   "source": []
  },
  {
   "cell_type": "code",
   "execution_count": null,
   "id": "29bde781-e836-4a6a-9e39-d5dec04a519a",
   "metadata": {},
   "outputs": [],
   "source": []
  },
  {
   "cell_type": "code",
   "execution_count": null,
   "id": "1000076a-0d95-4e8c-a003-479b2bbb7a5d",
   "metadata": {},
   "outputs": [],
   "source": []
  },
  {
   "cell_type": "code",
   "execution_count": null,
   "id": "98fe2bf6-54f1-4e49-9f25-f2ab8fa74fda",
   "metadata": {},
   "outputs": [],
   "source": []
  }
 ],
 "metadata": {
  "kernelspec": {
   "display_name": "Python 3 (ipykernel)",
   "language": "python",
   "name": "python3"
  },
  "language_info": {
   "codemirror_mode": {
    "name": "ipython",
    "version": 3
   },
   "file_extension": ".py",
   "mimetype": "text/x-python",
   "name": "python",
   "nbconvert_exporter": "python",
   "pygments_lexer": "ipython3",
   "version": "3.12.0"
  }
 },
 "nbformat": 4,
 "nbformat_minor": 5
}
