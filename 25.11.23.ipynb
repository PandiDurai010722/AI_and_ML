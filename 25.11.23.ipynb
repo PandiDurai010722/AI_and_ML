{
 "cells": [
  {
   "cell_type": "markdown",
   "id": "e0d3b089-e164-486e-a666-4fad9baf8e86",
   "metadata": {},
   "source": [
    "# Lambda Function\n",
    "# List Comprehension\n",
    "# Filter\n",
    "# Map\n",
    "# Regular Expressions\n",
    "# File handling"
   ]
  },
  {
   "cell_type": "code",
   "execution_count": 2,
   "id": "2d641bfa-821e-45b6-876c-a8864db70419",
   "metadata": {},
   "outputs": [
    {
     "data": {
      "text/plain": [
       "97.5"
      ]
     },
     "execution_count": 2,
     "metadata": {},
     "output_type": "execute_result"
    }
   ],
   "source": [
    "# Lambda Function=>Nameless function\n",
    "percent=lambda marks,total_marks:(marks*100)/(total_marks)\n",
    "percent(195,200)"
   ]
  },
  {
   "cell_type": "code",
   "execution_count": 3,
   "id": "48d1d989-cd81-4118-8ed2-a39d5d5cd859",
   "metadata": {},
   "outputs": [
    {
     "data": {
      "text/plain": [
       "1000.0"
      ]
     },
     "execution_count": 3,
     "metadata": {},
     "output_type": "execute_result"
    }
   ],
   "source": [
    "# Write a lamba function to compute tax needed to be paid by the user\n",
    "pay_tax=lambda income,tax:tax*income\n",
    "pay_tax(10000,0.1)"
   ]
  },
  {
   "cell_type": "code",
   "execution_count": 1,
   "id": "247e97a3-5441-45fe-a3cc-d66119267169",
   "metadata": {},
   "outputs": [
    {
     "data": {
      "text/plain": [
       "[12, 22, 32, 42, 52, 62, 51, 57]"
      ]
     },
     "execution_count": 1,
     "metadata": {},
     "output_type": "execute_result"
    }
   ],
   "source": [
    "# List comprehension \n",
    "# example: marks of students, +2\n",
    "marks=[10,20,30,40,50,60,49,55]\n",
    "mark1=[]\n",
    "for mark in marks:\n",
    "    mark+=2\n",
    "    mark1.append(mark)\n",
    "\n",
    "mark1\n",
    "\n"
   ]
  },
  {
   "cell_type": "code",
   "execution_count": 2,
   "id": "6d85b923-cb38-413e-9f9c-5434d2760bcf",
   "metadata": {},
   "outputs": [
    {
     "data": {
      "text/plain": [
       "[12, 22, 32, 42, 52, 62, 51, 57]"
      ]
     },
     "execution_count": 2,
     "metadata": {},
     "output_type": "execute_result"
    }
   ],
   "source": [
    "updated_marks=[mark+2 for mark in marks]\n",
    "updated_marks"
   ]
  },
  {
   "cell_type": "code",
   "execution_count": 6,
   "id": "f30db8a9-d7c3-451f-bef6-37fe35877551",
   "metadata": {},
   "outputs": [
    {
     "name": "stdin",
     "output_type": "stream",
     "text": [
      " a\n",
      " b\n",
      " c\n",
      " d\n",
      " e\n",
      " f\n",
      " g\n",
      " h\n",
      " i\n",
      " j\n"
     ]
    },
    {
     "data": {
      "text/plain": [
       "['a', 'b', 'c', 'd', 'e', 'f', 'g', 'h', 'i', 'j']"
      ]
     },
     "execution_count": 6,
     "metadata": {},
     "output_type": "execute_result"
    }
   ],
   "source": [
    "# take names of 10 user as input using list comprehensive:\n",
    "users_list=[input() for user in range(10)]\n",
    "users_list"
   ]
  },
  {
   "cell_type": "code",
   "execution_count": 7,
   "id": "5f8bfa99-91fa-4d81-a85c-27414e2fc3a5",
   "metadata": {},
   "outputs": [
    {
     "data": {
      "text/plain": [
       "[40, 50, 60, 49, 55]"
      ]
     },
     "execution_count": 7,
     "metadata": {},
     "output_type": "execute_result"
    }
   ],
   "source": [
    "marks=[10,20,30,40,50,60,49,55]\n",
    "filtered_data=[]\n",
    "for mark in marks:\n",
    "    if mark>=35:\n",
    "        filtered_data.append(mark)\n",
    "filtered_data"
   ]
  },
  {
   "cell_type": "code",
   "execution_count": 9,
   "id": "6ba954b6-4a77-43c2-b8a7-00fe664d050e",
   "metadata": {},
   "outputs": [
    {
     "data": {
      "text/plain": [
       "[40, 50, 60, 49, 55]"
      ]
     },
     "execution_count": 9,
     "metadata": {},
     "output_type": "execute_result"
    }
   ],
   "source": [
    "filtered_data=list(filter(lambda mark:mark>=35,marks))\n",
    "filtered_data"
   ]
  },
  {
   "cell_type": "code",
   "execution_count": 13,
   "id": "89469783-42c1-437f-8f7e-720a38e5f83f",
   "metadata": {},
   "outputs": [
    {
     "data": {
      "text/plain": [
       "[12, 22, 32, 42, 52, 62, 51, 57]"
      ]
     },
     "execution_count": 13,
     "metadata": {},
     "output_type": "execute_result"
    }
   ],
   "source": [
    "mapped_data=list(map(lambda mark:mark+2,marks))\n",
    "mapped_data"
   ]
  },
  {
   "cell_type": "code",
   "execution_count": 22,
   "id": "5592e729-af67-4ebd-9968-5d5f42d883fd",
   "metadata": {},
   "outputs": [],
   "source": [
    "with open(\"student1.txt\",\"w\") as pandi:\n",
    "    pandi.write(\"I am learning file handling\")\n",
    "    pandi.write(\"\\nI am able to understand  the concept\")"
   ]
  },
  {
   "cell_type": "code",
   "execution_count": 23,
   "id": "077be674-7a34-44ba-b445-025885938665",
   "metadata": {},
   "outputs": [],
   "source": [
    "with open(\"student1.txt\",\"a\") as pandi:\n",
    "    pandi.write(\"\\nAppend I am learning file handling\")\n",
    "    pandi.write(\"\\nAppend I am able to understand the concept\")"
   ]
  },
  {
   "cell_type": "code",
   "execution_count": 25,
   "id": "da021bcb-a2c7-4959-922c-baed58e0ba3f",
   "metadata": {},
   "outputs": [
    {
     "name": "stdout",
     "output_type": "stream",
     "text": [
      "I am learning file handling\n",
      "I am able to understand  the concept\n",
      "Append I am learning file handling\n",
      "Append I am able to understand the concept\n"
     ]
    }
   ],
   "source": [
    "with open(\"student1.txt\",\"r\") as pandi:\n",
    "    data=pandi.read()\n",
    "print(data)"
   ]
  },
  {
   "cell_type": "markdown",
   "id": "225e150a-670f-4fef-95ab-b7375d9b29ce",
   "metadata": {},
   "source": [
    "# Classes and Objects"
   ]
  },
  {
   "cell_type": "code",
   "execution_count": 30,
   "id": "1d0c9af6-5718-49b0-99bb-50c954e90184",
   "metadata": {},
   "outputs": [
    {
     "name": "stdout",
     "output_type": "stream",
     "text": [
      "Legs:2,Hands:2,Eyes:2,Name:pandi,Age:29\n",
      "Legs:2,Hands:2,Eyes:2,Name:pandi,Age:29\n"
     ]
    }
   ],
   "source": [
    "class human:\n",
    "    legs =2\n",
    "    hands=2\n",
    "    eyes=2\n",
    "    def __init__(h,name,age):\n",
    "        h.name=name\n",
    "        h.age=age\n",
    "h1 = human(\"pandi\",29)\n",
    "h2= human(\"Aruan\",24)\n",
    "print(f\"Legs:{h1.legs},Hands:{h1.hands},Eyes:{h1.eyes},Name:{h1.name},Age:{h1.age}\")\n",
    "print(f\"Legs:{h2.legs},Hands:{h2.hands},Eyes:{h2.eyes},Name:{h1.name},Age:{h1.age}\")"
   ]
  },
  {
   "cell_type": "code",
   "execution_count": 49,
   "id": "80b10977-7dc2-4451-bcde-372f3b62340e",
   "metadata": {},
   "outputs": [
    {
     "name": "stdout",
     "output_type": "stream",
     "text": [
      "Institue:Guvi,Name:Pandi,email:pandidurai9009@gmail.com,Age:AI and ML\n",
      "Institue:Guvi,Name:Aruan,email:aruna9009@gmail.com,Age:DATA Analyat\n",
      "Institue:Guvi,Name:Thivilan,email:thivilan@gmail.com,Age:Doctor\n"
     ]
    }
   ],
   "source": [
    "# create a class called students \n",
    "# institute: guvi --> same for everyone\n",
    "# name: user_specific\n",
    "# email: user_specific\n",
    "# age: user_specific\n",
    "# course: user_specific\n",
    "# create 3 objects of students\n",
    "\n",
    "class students:\n",
    "    institute=\"Guvi\"\n",
    "    def __init__(self,user_name,user_email,user_age,user_course):\n",
    "        self.name=user_name\n",
    "        self.email=user_email\n",
    "        self.age=user_age\n",
    "        self.course=user_course\n",
    "student1=students(\"Pandi\",\"pandidurai9009@gmail.com\",29,\"AI and ML\")\n",
    "student2=students(\"Aruan\",\"aruna9009@gmail.com\",24,\"DATA Analyat\")\n",
    "student3=students(\"Thivilan\",\"thivilan@gmail.com\",1,\"Doctor\")\n",
    "print(f\"Institue:{student1.institute},Name:{student1.name},email:{student1.email},Age:{student1.course}\")\n",
    "print(f\"Institue:{student2.institute},Name:{student2.name},email:{student2.email},Age:{student2.course}\")\n",
    "print(f\"Institue:{student3.institute},Name:{student3.name},email:{student3.email},Age:{student3.course}\")"
   ]
  },
  {
   "cell_type": "code",
   "execution_count": null,
   "id": "dfd27675-a156-48ce-b616-d08e3e0f1a3d",
   "metadata": {},
   "outputs": [],
   "source": []
  },
  {
   "cell_type": "code",
   "execution_count": null,
   "id": "a32dcc7d-43d5-41d8-b686-c7c24e95c8ec",
   "metadata": {},
   "outputs": [],
   "source": []
  },
  {
   "cell_type": "code",
   "execution_count": null,
   "id": "91359d01-6f3a-476d-9044-5f67c91ea6ec",
   "metadata": {},
   "outputs": [],
   "source": []
  },
  {
   "cell_type": "code",
   "execution_count": null,
   "id": "c7decf15-f2c2-4926-a34e-e7f596aa2101",
   "metadata": {},
   "outputs": [],
   "source": []
  }
 ],
 "metadata": {
  "kernelspec": {
   "display_name": "Python 3 (ipykernel)",
   "language": "python",
   "name": "python3"
  },
  "language_info": {
   "codemirror_mode": {
    "name": "ipython",
    "version": 3
   },
   "file_extension": ".py",
   "mimetype": "text/x-python",
   "name": "python",
   "nbconvert_exporter": "python",
   "pygments_lexer": "ipython3",
   "version": "3.12.0"
  }
 },
 "nbformat": 4,
 "nbformat_minor": 5
}
